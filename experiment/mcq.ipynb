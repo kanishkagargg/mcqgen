{
 "cells": [
  {
   "cell_type": "code",
   "execution_count": 15,
   "metadata": {},
   "outputs": [],
   "source": [
    "import os\n",
    "import json\n",
    "import pandas as pd\n",
    "import traceback"
   ]
  },
  {
   "cell_type": "code",
   "execution_count": 7,
   "metadata": {},
   "outputs": [],
   "source": [
    "from langchain.chat_models import ChatOpenAI"
   ]
  },
  {
   "cell_type": "code",
   "execution_count": 24,
   "metadata": {},
   "outputs": [
    {
     "data": {
      "text/plain": [
       "False"
      ]
     },
     "execution_count": 24,
     "metadata": {},
     "output_type": "execute_result"
    }
   ],
   "source": [
    "from dotenv import load_dotenv\n",
    "dotenv_path = r'C:\\Users\\kgarg\\mcqgen\\experiment\\.env'\n",
    "load_dotenv(dotenv_path)"
   ]
  },
  {
   "cell_type": "code",
   "execution_count": 29,
   "metadata": {},
   "outputs": [
    {
     "name": "stdout",
     "output_type": "stream",
     "text": [
      "dotenv loaded: False\n",
      "None\n"
     ]
    }
   ],
   "source": [
    "import os\n",
    "from dotenv import load_dotenv\n",
    "\n",
    "# Enable debug mode\n",
    "os.environ['PYTHON_DOTENV_DEBUG'] = '1'\n",
    "\n",
    "# Specify absolute path to .env file\n",
    "dotenv_path = r'C:\\Users\\kgarg\\mcqgen\\experiment\\.env'\n",
    "\n",
    "# Attempt to load .env file\n",
    "result = load_dotenv(dotenv_path)\n",
    "\n",
    "print(f\"dotenv loaded: {result}\")\n",
    "\n",
    "# Check if environment variable is set\n",
    "print(os.getenv('SOME_VARIABLE'))  # Replace 'SOME_VARIABLE' with your variable name\n"
   ]
  },
  {
   "cell_type": "code",
   "execution_count": 8,
   "metadata": {},
   "outputs": [],
   "source": [
    "import sys"
   ]
  },
  {
   "cell_type": "code",
   "execution_count": 9,
   "metadata": {},
   "outputs": [
    {
     "name": "stdout",
     "output_type": "stream",
     "text": [
      "['c:\\\\Users\\\\kgarg\\\\mcqgen\\\\env\\\\python310.zip', 'c:\\\\Users\\\\kgarg\\\\mcqgen\\\\env\\\\DLLs', 'c:\\\\Users\\\\kgarg\\\\mcqgen\\\\env\\\\lib', 'c:\\\\Users\\\\kgarg\\\\mcqgen\\\\env', '', 'c:\\\\Users\\\\kgarg\\\\mcqgen\\\\env\\\\lib\\\\site-packages', 'c:\\\\Users\\\\kgarg\\\\mcqgen\\\\env\\\\lib\\\\site-packages\\\\win32', 'c:\\\\Users\\\\kgarg\\\\mcqgen\\\\env\\\\lib\\\\site-packages\\\\win32\\\\lib', 'c:\\\\Users\\\\kgarg\\\\mcqgen\\\\env\\\\lib\\\\site-packages\\\\Pythonwin', 'C:\\\\Users\\\\kgarg\\\\anaconda3-new\\\\Lib\\\\site-packages']\n"
     ]
    }
   ],
   "source": [
    "print(sys.path)"
   ]
  },
  {
   "cell_type": "code",
   "execution_count": 4,
   "metadata": {},
   "outputs": [],
   "source": [
    "sys.path.append(r'C:\\Users\\kgarg\\anaconda3-new\\Lib\\site-packages')"
   ]
  },
  {
   "cell_type": "code",
   "execution_count": 25,
   "metadata": {},
   "outputs": [],
   "source": [
    "KEY = os.getenv(\"OPEN_API_KEY\")"
   ]
  },
  {
   "cell_type": "code",
   "execution_count": 26,
   "metadata": {},
   "outputs": [
    {
     "name": "stdout",
     "output_type": "stream",
     "text": [
      "None\n"
     ]
    }
   ],
   "source": [
    "print(KEY)"
   ]
  },
  {
   "cell_type": "code",
   "execution_count": null,
   "metadata": {},
   "outputs": [],
   "source": [
    "llm = ChatOpenAI(openai_api_key=KEY, model_name=\"gpt-3.5-turbo\", temperature = 0.5)"
   ]
  }
 ],
 "metadata": {
  "kernelspec": {
   "display_name": "Python 3",
   "language": "python",
   "name": "python3"
  },
  "language_info": {
   "codemirror_mode": {
    "name": "ipython",
    "version": 3
   },
   "file_extension": ".py",
   "mimetype": "text/x-python",
   "name": "python",
   "nbconvert_exporter": "python",
   "pygments_lexer": "ipython3",
   "version": "3.10.14"
  }
 },
 "nbformat": 4,
 "nbformat_minor": 2
}
